{
 "cells": [
  {
   "cell_type": "markdown",
   "metadata": {},
   "source": [
    "# Finding a good correction term for the shifted cameras\n",
    "\n",
    "In this notebook, we do a small experiment to find a good correction term for the shifted cameras. The idea is the following:\n",
    "The model cannot distinguish between the picture from the center camera of the car if it is slightly off the center of the road and the picture from the shifted camera if the car is on the center of the road. The appropriate correction term should produce in both cases the same steering angle. Hence, an appropriately chosen correction term should prodcue training data which is more consistent.\n",
    "\n",
    "To estimate how consistent the training data is, we fit a small neural network to it and measure the loss function. A smaller loss function indicates that the training data is more consistent and easier to learn. This allows us to test different correction terms and pick this term which prodcues the most consistent training data.\n",
    "\n",
    "## Training set\n",
    "To collect the training set, we drive two laps (clockwise and counter clockwise) of the first track staying on the center of the road.\n",
    "\n",
    "## Experiment\n",
    "The neural network is rather similiar containing one averaging, four convolutional, two max pooling and two fully connected layers. We train it for 3 epochs and report at the end the loss on the complete training data. We repeat the experiment 5 times for each correction term."
   ]
  },
  {
   "cell_type": "code",
   "execution_count": 2,
   "metadata": {},
   "outputs": [
    {
     "name": "stdout",
     "output_type": "stream",
     "text": [
      "5590\n"
     ]
    }
   ],
   "source": [
    "import csv\n",
    "import cv2\n",
    "import numpy as np\n",
    "\n",
    "samples = []\n",
    "with open('C://DrivingData/Track_1_2_Loops/driving_log.csv') as csvfile:\n",
    "    reader = csv.reader(csvfile)\n",
    "    for line in reader:\n",
    "        samples.append(line)\n",
    "\n",
    "from sklearn.utils import shuffle\n",
    "\n",
    "print(len(samples))"
   ]
  },
  {
   "cell_type": "code",
   "execution_count": 2,
   "metadata": {
    "collapsed": true
   },
   "outputs": [],
   "source": [
    "def generate_6(samples, batch_size = 10,correction_term = 0.00):\n",
    "    #The effective batch size is 6*batch_size\n",
    "    num_samples = len(samples)\n",
    "    shuffle(samples)\n",
    "    while 1: # Loop forever so the generator never terminates\n",
    "        for offset in range(0, num_samples, batch_size):\n",
    "            batch_samples = samples[offset:offset+batch_size]\n",
    "            images = []\n",
    "            angles = []\n",
    "            for batch_sample in batch_samples:\n",
    "                center_image = cv2.imread(batch_sample[0])\n",
    "                center_angle = float(batch_sample[3])\n",
    "               \n",
    "                img_left = cv2.imread(batch_sample[1])\n",
    "                left_angle = center_angle+correction_term\n",
    "                \n",
    "                img_right = cv2.imread(batch_sample[2])\n",
    "                right_angle = center_angle-correction_term   \n",
    "        \n",
    "                images.append(center_image)\n",
    "                angles.append(center_angle)\n",
    "\n",
    "                images.append(img_left)\n",
    "                angles.append(left_angle)\n",
    "\n",
    "                images.append(img_right)\n",
    "                angles.append(right_angle)\n",
    "                                \n",
    "                #Add all Flipped Versions\n",
    "                images.append(np.fliplr(center_image))\n",
    "                angles.append(-center_angle)\n",
    "                \n",
    "                images.append(np.fliplr(img_left))\n",
    "                angles.append(-left_angle)\n",
    "\n",
    "                images.append(np.fliplr(img_right))\n",
    "                angles.append(-right_angle)\n",
    "                \n",
    "            X_train = np.array(images)\n",
    "            y_train = np.array(angles)\n",
    "            yield X_train,y_train"
   ]
  },
  {
   "cell_type": "code",
   "execution_count": 3,
   "metadata": {},
   "outputs": [
    {
     "name": "stderr",
     "output_type": "stream",
     "text": [
      "Using TensorFlow backend.\n"
     ]
    }
   ],
   "source": [
    "from keras.models import Sequential\n",
    "from keras.layers import Flatten, Dense, Lambda\n",
    "from keras.layers import Cropping2D, Conv2D\n",
    "from keras.layers.core import Dropout\n",
    "from keras.layers.pooling import MaxPooling2D, AveragePooling2D\n",
    "from keras.callbacks import ModelCheckpoint"
   ]
  },
  {
   "cell_type": "code",
   "execution_count": 20,
   "metadata": {
    "collapsed": true
   },
   "outputs": [],
   "source": [
    "correction_results = {}"
   ]
  },
  {
   "cell_type": "code",
   "execution_count": 21,
   "metadata": {},
   "outputs": [
    {
     "name": "stdout",
     "output_type": "stream",
     "text": [
      "Epoch 1/3\n",
      "280/279 [==============================] - 34s - loss: 0.0051    \n",
      "Epoch 2/3\n",
      "280/279 [==============================] - 32s - loss: 0.0035    \n",
      "Epoch 3/3\n",
      "280/279 [==============================] - 32s - loss: 0.0028    \n",
      "0.00248388224677\n",
      "Epoch 1/3\n",
      "280/279 [==============================] - 34s - loss: 0.0047    \n",
      "Epoch 2/3\n",
      "280/279 [==============================] - 33s - loss: 0.0032    \n",
      "Epoch 3/3\n",
      "280/279 [==============================] - 33s - loss: 0.0022    \n",
      "0.00357699715269\n",
      "Epoch 1/3\n",
      "280/279 [==============================] - 34s - loss: 0.0055    \n",
      "Epoch 2/3\n",
      "280/279 [==============================] - 33s - loss: 0.0033    \n",
      "Epoch 3/3\n",
      "280/279 [==============================] - 33s - loss: 0.0032    \n",
      "0.00367062414361\n",
      "Epoch 1/3\n",
      "280/279 [==============================] - 34s - loss: 0.0048    \n",
      "Epoch 2/3\n",
      "280/279 [==============================] - 33s - loss: 0.0026    \n",
      "Epoch 3/3\n",
      "280/279 [==============================] - 33s - loss: 0.0017    \n",
      "0.00240314460846\n",
      "Epoch 1/3\n",
      "280/279 [==============================] - 34s - loss: 0.0049    \n",
      "Epoch 2/3\n",
      "280/279 [==============================] - 33s - loss: 0.0033    \n",
      "Epoch 3/3\n",
      "280/279 [==============================] - 33s - loss: 0.0024    \n",
      "0.0034391685645\n",
      "Epoch 1/3\n",
      "280/279 [==============================] - 34s - loss: 0.0052    \n",
      "Epoch 2/3\n",
      "280/279 [==============================] - 33s - loss: 0.0036    \n",
      "Epoch 3/3\n",
      "280/279 [==============================] - 33s - loss: 0.0028    \n",
      "0.00269065723518\n",
      "Epoch 1/3\n",
      "280/279 [==============================] - 34s - loss: 0.0043    \n",
      "Epoch 2/3\n",
      "280/279 [==============================] - 33s - loss: 0.0028    \n",
      "Epoch 3/3\n",
      "280/279 [==============================] - 32s - loss: 0.0031    \n",
      "0.00200406818861\n",
      "Epoch 1/3\n",
      "280/279 [==============================] - 34s - loss: 0.0046    \n",
      "Epoch 2/3\n",
      "280/279 [==============================] - 33s - loss: 0.0040    \n",
      "Epoch 3/3\n",
      "280/279 [==============================] - 33s - loss: 0.0034    \n",
      "0.00387855273389\n",
      "Epoch 1/3\n",
      "280/279 [==============================] - 34s - loss: 0.0058    \n",
      "Epoch 2/3\n",
      "280/279 [==============================] - 33s - loss: 0.0034    \n",
      "Epoch 3/3\n",
      "280/279 [==============================] - 33s - loss: 0.0029    \n",
      "0.00306445864589\n",
      "Epoch 1/3\n",
      "280/279 [==============================] - 34s - loss: 0.0073    \n",
      "Epoch 2/3\n",
      "280/279 [==============================] - 33s - loss: 0.0065    \n",
      "Epoch 3/3\n",
      "280/279 [==============================] - 33s - loss: 0.0038    \n",
      "0.00204784884638\n",
      "Epoch 1/3\n",
      "280/279 [==============================] - 34s - loss: 0.0044    \n",
      "Epoch 2/3\n",
      "280/279 [==============================] - 33s - loss: 0.0028    \n",
      "Epoch 3/3\n",
      "280/279 [==============================] - 33s - loss: 0.0019    \n",
      "0.00200010985241\n",
      "Epoch 1/3\n",
      "280/279 [==============================] - 34s - loss: 0.0037    \n",
      "Epoch 2/3\n",
      "280/279 [==============================] - 33s - loss: 0.0026    \n",
      "Epoch 3/3\n",
      "280/279 [==============================] - 33s - loss: 0.0020    \n",
      "0.00202650533906\n",
      "Epoch 1/3\n",
      "280/279 [==============================] - 34s - loss: 0.0055    \n",
      "Epoch 2/3\n",
      "280/279 [==============================] - 32s - loss: 0.0040    \n",
      "Epoch 3/3\n",
      "280/279 [==============================] - 33s - loss: 0.0030    \n",
      "0.00349934907409\n",
      "Epoch 1/3\n",
      "280/279 [==============================] - 34s - loss: 0.0050    \n",
      "Epoch 2/3\n",
      "280/279 [==============================] - 33s - loss: 0.0037    \n",
      "Epoch 3/3\n",
      "280/279 [==============================] - 33s - loss: 0.0020    \n",
      "0.00226483576204\n",
      "Epoch 1/3\n",
      "280/279 [==============================] - 34s - loss: 0.0046    \n",
      "Epoch 2/3\n",
      "280/279 [==============================] - 33s - loss: 0.0022    \n",
      "Epoch 3/3\n",
      "280/279 [==============================] - 32s - loss: 0.0017    \n",
      "0.0018200599564\n",
      "Epoch 1/3\n",
      "280/279 [==============================] - 34s - loss: 0.0052    \n",
      "Epoch 2/3\n",
      "280/279 [==============================] - 33s - loss: 0.0031    \n",
      "Epoch 3/3\n",
      "280/279 [==============================] - 33s - loss: 0.0023    \n",
      "0.00193484927731\n",
      "Epoch 1/3\n",
      "280/279 [==============================] - 35s - loss: 0.0058    \n",
      "Epoch 2/3\n",
      "280/279 [==============================] - 33s - loss: 0.0039    \n",
      "Epoch 3/3\n",
      "280/279 [==============================] - 33s - loss: 0.0028    \n",
      "0.00197602374579\n",
      "Epoch 1/3\n",
      "280/279 [==============================] - 34s - loss: 0.0045    \n",
      "Epoch 2/3\n",
      "280/279 [==============================] - 33s - loss: 0.0024    \n",
      "Epoch 3/3\n",
      "280/279 [==============================] - 33s - loss: 0.0028    \n",
      "0.00272162425605\n",
      "Epoch 1/3\n",
      "280/279 [==============================] - 34s - loss: 0.0046    \n",
      "Epoch 2/3\n",
      "280/279 [==============================] - 33s - loss: 0.0025    \n",
      "Epoch 3/3\n",
      "280/279 [==============================] - 33s - loss: 0.0018    \n",
      "0.00206906548774\n",
      "Epoch 1/3\n",
      "280/279 [==============================] - 34s - loss: 0.0060    \n",
      "Epoch 2/3\n",
      "280/279 [==============================] - 33s - loss: 0.0053    \n",
      "Epoch 3/3\n",
      "280/279 [==============================] - 33s - loss: 0.0036    \n",
      "0.00479091767811\n"
     ]
    }
   ],
   "source": [
    "training_batch_size = 20\n",
    "correction_values = [0,0.01,0.02,0.03]\n",
    "\n",
    "for correction_value in correction_values:\n",
    "    correction_results[correction_value] =[]\n",
    "\n",
    "for i in range(5):\n",
    "    for correction_value in correction_values:\n",
    "        model = Sequential()\n",
    "        model.add(Cropping2D(cropping=((50,20),(0,0)), input_shape=(160,320,3)))\n",
    "        model.add(Lambda(lambda x: (x/255.0)-0.5))\n",
    "        model.add(AveragePooling2D(pool_size = 2))\n",
    "        model.add(Conv2D(6,(3,3),activation = 'relu'))\n",
    "        model.add(Conv2D(6,(3,3),activation = 'relu'))\n",
    "        model.add(MaxPooling2D(pool_size = 2))\n",
    "        model.add(Conv2D(12,(3,3),activation = 'relu'))\n",
    "        model.add(Conv2D(12,(3,3),activation = 'relu'))\n",
    "        model.add(MaxPooling2D(pool_size = 2))\n",
    "        model.add(Flatten())\n",
    "        model.add(Dense(25,activation = 'relu'))\n",
    "        model.add(Dense(10,activation = 'relu'))\n",
    "        model.add(Dense(1))\n",
    "\n",
    "        train_generator = generate_6(samples,training_batch_size,correction_value)\n",
    "\n",
    "        model.compile(loss = 'mse', optimizer = 'adam')\n",
    "\n",
    "        s_p_e_t = len(samples)/training_batch_size\n",
    "        \n",
    "        model.fit_generator(train_generator, steps_per_epoch = s_p_e_t, epochs = 3,verbose = 1)\n",
    "\n",
    "        correction_fit = model.evaluate_generator(train_generator, steps = s_p_e_t)\n",
    "        print(correction_fit)\n",
    "\n",
    "        correction_results[correction_value].append(correction_fit)\n"
   ]
  },
  {
   "cell_type": "code",
   "execution_count": 23,
   "metadata": {},
   "outputs": [
    {
     "name": "stdout",
     "output_type": "stream",
     "text": [
      "{0: [0.0024838822467705777, 0.0034391685644981464, 0.0030644586458850121, 0.0034993490740891768, 0.0019760237457851293], 0.02: [0.0036706241436135225, 0.0020040681886131424, 0.0020001098524120159, 0.0018200599563983643, 0.0020690654877437678], 0.03: [0.0024031446084600071, 0.0038785527338889639, 0.0020265053390566517, 0.0019348492773107297, 0.0047909176781084657], 0.01: [0.0035769971526891813, 0.0026906572351767808, 0.0020478488463766403, 0.0022648357620440075, 0.0027216242560500377]}\n"
     ]
    }
   ],
   "source": [
    "print(correction_results)"
   ]
  },
  {
   "cell_type": "code",
   "execution_count": 36,
   "metadata": {},
   "outputs": [
    {
     "data": {
      "image/png": "[encoded data removed]",
      "text/plain": [
       "<matplotlib.figure.Figure at 0xcb525ca128>"
      ]
     },
     "metadata": {},
     "output_type": "display_data"
    }
   ],
   "source": [
    "import matplotlib.pyplot as plt\n",
    "%matplotlib inline\n",
    "\n",
    "x_points = []\n",
    "y_points = []\n",
    "\n",
    "x_points_mean = []\n",
    "y_means =[]\n",
    "\n",
    "for key, value in sorted(correction_results.items()):\n",
    "    mean = 0\n",
    "    for v in value:\n",
    "        x_points.append(key)\n",
    "        y_points.append(v)\n",
    "        mean += v\n",
    "    mean /= len(value)\n",
    "    x_points_mean.append(key)\n",
    "    y_means.append(mean)\n",
    "        \n",
    "plt.plot(x_points,y_points,'ro')\n",
    "plt.plot(x_points_mean,y_means)\n",
    "\n",
    "plt.show()"
   ]
  },
  {
   "cell_type": "markdown",
   "metadata": {},
   "source": [
    "## Results\n",
    "As expected the different correction terms produce training data of different consistency. According to our experiments, a correction term of 0.02 seems to be appropriate."
   ]
  }
 ],
 "metadata": {
  "kernelspec": {
   "display_name": "Python 3",
   "language": "python",
   "name": "python3"
  },
  "language_info": {
   "codemirror_mode": {
    "name": "ipython",
    "version": 3
   },
   "file_extension": ".py",
   "mimetype": "text/x-python",
   "name": "python",
   "nbconvert_exporter": "python",
   "pygments_lexer": "ipython3",
   "version": "3.5.3"
  }
 },
 "nbformat": 4,
 "nbformat_minor": 2
}
